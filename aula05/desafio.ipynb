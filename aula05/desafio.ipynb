{
 "cells": [
  {
   "cell_type": "code",
   "execution_count": 1,
   "metadata": {},
   "outputs": [
    {
     "name": "stderr",
     "output_type": "stream",
     "text": [
      "[nltk_data] Downloading package stopwords to\n",
      "[nltk_data]     /home/codespace/nltk_data...\n",
      "[nltk_data]   Package stopwords is already up-to-date!\n",
      "[nltk_data] Downloading package wordnet to\n",
      "[nltk_data]     /home/codespace/nltk_data...\n",
      "[nltk_data]   Package wordnet is already up-to-date!\n",
      "[nltk_data] Downloading package omw-1.4 to\n",
      "[nltk_data]     /home/codespace/nltk_data...\n",
      "[nltk_data]   Package omw-1.4 is already up-to-date!\n"
     ]
    }
   ],
   "source": [
    "import re\n",
    "import string\n",
    "import nltk\n",
    "from nltk.stem import WordNetLemmatizer\n",
    "from nltk.corpus import stopwords\n",
    "\n",
    "# Baixar recursos necessários do NLTK\n",
    "nltk.download('stopwords', download_dir='/home/codespace/nltk_data')\n",
    "nltk.download('wordnet', download_dir='/home/codespace/nltk_data')\n",
    "nltk.download('omw-1.4', download_dir='/home/codespace/nltk_data')  # Open Multilingual WordNet\n",
    "nltk.data.path.append('/home/codespace/nltk_data')"
   ]
  },
  {
   "cell_type": "code",
   "execution_count": null,
   "metadata": {},
   "outputs": [],
   "source": [
    "def basic_cleaning(text):\n",
    "    # Converter para minúsculas\n",
    "    text = text.lower()\n",
    "    \n",
    "    # Remover pontuações\n",
    "    text = text.translate(str.maketrans('', '', string.punctuation))\n",
    "    \n",
    "    # Remover números\n",
    "    text = re.sub(r'\\d+', '', text)\n",
    "    \n",
    "    # Remover espaços extras\n",
    "    text = re.sub(r'\\s+', ' ', text).strip()\n",
    "    \n",
    "    return text\n",
    "\n",
    "def simple_tokenize(text):\n",
    "    \"\"\"\n",
    "    Tokeniza um texto dividindo por espaços\n",
    "    \"\"\"\n",
    "    return text.split()\n",
    "\n",
    "def remove_stopwords(tokens):\n",
    "    \"\"\"\n",
    "    Remove stopwords da lista de tokens\n",
    "    \"\"\"\n",
    "    stop_words = set(stopwords.words('english'))\n",
    "    return [word for word in tokens if word not in stop_words]"
   ]
  },
  {
   "cell_type": "code",
   "execution_count": 41,
   "metadata": {},
   "outputs": [],
   "source": [
    "# Dicionário de lematização manual\n",
    "manual_lemmas = {\n",
    "    \"running\": \"run\",\n",
    "    \"better\": \"good\",\n",
    "    \"studies\": \"study\",\n",
    "    \"wolves\": \"wolf\",\n",
    "    \"mice\": \"mouse\",\n",
    "    \"children\": \"child\",\n",
    "    \"was\": \"be\",\n",
    "    \"ate\": \"eat\",\n",
    "    \"swimming\": \"swim\",\n",
    "    \"parties\": \"party\",\n",
    "    \"leaves\": \"leaf\",\n",
    "    \"knives\": \"knife\",\n",
    "    \"happier\": \"happy\",\n",
    "    \"studying\": \"study\",\n",
    "    \"played\": \"play\",\n",
    "    \"goes\": \"go\",\n",
    "    \"driving\": \"drive\",\n",
    "    \"talked\": \"talk\"\n",
    "}"
   ]
  },
  {
   "cell_type": "code",
   "execution_count": null,
   "metadata": {},
   "outputs": [],
   "source": [
    "\n",
    "def lemmatize_tokens(tokens):\n",
    "    \"\"\"\n",
    "    Lematiza uma lista de tokens usando WordNetLemmatizer do NLTK.\n",
    "    Especifica que \"playing\" deve ser lematizado para \"play\" como verbo.\n",
    "    \"\"\"\n",
    "    lemmatizer = WordNetLemmatizer()\n",
    "    lemmatized_list = []\n",
    "\n",
    "    for token in tokens:\n",
    "        if token in manual_lemmas:  \n",
    "            lemmatized_list.append(manual_lemmas[token])  # Usa a forma manual\n",
    "        else:\n",
    "            # Tenta lematizar como verbo (adicionando o parâmetro 'v')\n",
    "            lemmatized_list.append(lemmatizer.lemmatize(token, pos='v'))  # Especificando verbo (v)\n",
    "\n",
    "    return lemmatized_list"
   ]
  },
  {
   "cell_type": "code",
   "execution_count": 43,
   "metadata": {},
   "outputs": [],
   "source": [
    "# Exemplo de uso\n",
    "# Lista de frases para lematização\n",
    "sentences = [\n",
    "    \"The children were playing in the leaves yesterday.\",\n",
    "    \"She studies computer science and is taking three courses.\",\n",
    "    \"The wolves howled at the moon while mice scurried in the grass.\",\n",
    "    \"He was driving faster than the cars around him.\",\n",
    "    \"The chefs used sharp knives to prepare the tastiest dishes.\"\n",
    "]"
   ]
  },
  {
   "cell_type": "code",
   "execution_count": null,
   "metadata": {},
   "outputs": [
    {
     "name": "stdout",
     "output_type": "stream",
     "text": [
      "\n",
      "Frase original: The children were playing in the leaves yesterday.\n",
      "Após limpeza básica: the children were playing in the leaves yesterday\n",
      "Após tokenização: ['the', 'children', 'were', 'playing', 'in', 'the', 'leaves', 'yesterday']\n",
      "Após remoção de stopwords: ['children', 'playing', 'leaves', 'yesterday']\n",
      "Após lematização: ['child', 'play', 'leaf', 'yesterday']\n",
      "\n",
      "Frase original: She studies computer science and is taking three courses.\n",
      "Após limpeza básica: she studies computer science and is taking three courses\n",
      "Após tokenização: ['she', 'studies', 'computer', 'science', 'and', 'is', 'taking', 'three', 'courses']\n",
      "Após remoção de stopwords: ['studies', 'computer', 'science', 'taking', 'three', 'courses']\n",
      "Após lematização: ['study', 'computer', 'science', 'take', 'three', 'course']\n",
      "\n",
      "Frase original: The wolves howled at the moon while mice scurried in the grass.\n",
      "Após limpeza básica: the wolves howled at the moon while mice scurried in the grass\n",
      "Após tokenização: ['the', 'wolves', 'howled', 'at', 'the', 'moon', 'while', 'mice', 'scurried', 'in', 'the', 'grass']\n",
      "Após remoção de stopwords: ['wolves', 'howled', 'moon', 'mice', 'scurried', 'grass']\n",
      "Após lematização: ['wolf', 'howl', 'moon', 'mouse', 'scurry', 'grass']\n",
      "\n",
      "Frase original: He was driving faster than the cars around him.\n",
      "Após limpeza básica: he was driving faster than the cars around him\n",
      "Após tokenização: ['he', 'was', 'driving', 'faster', 'than', 'the', 'cars', 'around', 'him']\n",
      "Após remoção de stopwords: ['driving', 'faster', 'cars', 'around']\n",
      "Após lematização: ['drive', 'faster', 'cars', 'around']\n",
      "\n",
      "Frase original: The chefs used sharp knives to prepare the tastiest dishes.\n",
      "Após limpeza básica: the chefs used sharp knives to prepare the tastiest dishes\n",
      "Após tokenização: ['the', 'chefs', 'used', 'sharp', 'knives', 'to', 'prepare', 'the', 'tastiest', 'dishes']\n",
      "Após remoção de stopwords: ['chefs', 'used', 'sharp', 'knives', 'prepare', 'tastiest', 'dishes']\n",
      "Após lematização: ['chefs', 'use', 'sharp', 'knife', 'prepare', 'tastiest', 'dish']\n"
     ]
    }
   ],
   "source": [
    "# Processar cada frase\n",
    "for sentence in sentences:\n",
    "    print(f\"\\nFrase original: {sentence}\")\n",
    "\n",
    "    # Etapa 1: Limpeza básica - Deixa minusculo, remove pontuação, numero e espaço\n",
    "    cleaned_sentence = basic_cleaning(sentence)\n",
    "    print(\"Após limpeza básica:\", cleaned_sentence)\n",
    "\n",
    "    # Etapa 2: Tokenização simples - divide por espaço\n",
    "    tokens = simple_tokenize(cleaned_sentence)\n",
    "    print(\"Após tokenização:\", tokens)\n",
    "\n",
    "    # Etapa 3: Remoção de stopwords - remove coisa inutil, tipo \"the\" - \"in\"\n",
    "    filtered_tokens = remove_stopwords(tokens)\n",
    "    print(\"Após remoção de stopwords:\", filtered_tokens)\n",
    "\n",
    "    # Etapa 4: Lematização - deixa tudo o que interessa lematizado\n",
    "    lemmatized_tokens = lemmatize_tokens(filtered_tokens)\n",
    "    print(\"Após lematização:\", lemmatized_tokens)"
   ]
  }
 ],
 "metadata": {
  "kernelspec": {
   "display_name": "Python 3",
   "language": "python",
   "name": "python3"
  },
  "language_info": {
   "codemirror_mode": {
    "name": "ipython",
    "version": 3
   },
   "file_extension": ".py",
   "mimetype": "text/x-python",
   "name": "python",
   "nbconvert_exporter": "python",
   "pygments_lexer": "ipython3",
   "version": "3.12.1"
  }
 },
 "nbformat": 4,
 "nbformat_minor": 2
}
