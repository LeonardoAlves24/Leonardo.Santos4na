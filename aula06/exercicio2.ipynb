{
 "cells": [
  {
   "cell_type": "code",
   "execution_count": null,
   "id": "9d17d37e",
   "metadata": {},
   "outputs": [],
   "source": [
    "import gensim.downloader as api\n",
    "modelo_pretreino = api.load(\"glove-wiki-gigaword-100\")\n"
   ]
  },
  {
   "cell_type": "code",
   "execution_count": null,
   "id": "fcc53b99",
   "metadata": {},
   "outputs": [],
   "source": [
    "for texto in textos_para_classificar:\n",
    "    topico = detectar_topico(texto, topicos, modelo_pretreino)\n",
    "    print(f\"Texto: \\\"{texto}\\\"\\n→ Tópico detectado: {topico}\\n\")\n"
   ]
  },
  {
   "cell_type": "code",
   "execution_count": 2,
   "id": "1cea5424",
   "metadata": {},
   "outputs": [],
   "source": [
    "def detectar_topico(texto, palavras_chave_por_topico, modelo):\n",
    "    \"\"\"\n",
    "    Detecta o tópico mais provável para um texto com base na similaridade de embeddings.\n",
    "    \"\"\"\n",
    "    vetor_texto = texto_para_vetor(texto, modelo)\n",
    "    similaridades_topicos = {}\n",
    "\n",
    "    for topico, palavras_chave in palavras_chave_por_topico.items():\n",
    "        similaridades = []\n",
    "        for palavra in palavras_chave:\n",
    "            if palavra in modelo.wv:\n",
    "                vetor_palavra = modelo.wv[palavra]\n",
    "                sim = np.dot(vetor_texto, vetor_palavra) / (np.linalg.norm(vetor_texto) * np.linalg.norm(vetor_palavra))\n",
    "                similaridades.append(sim)\n",
    "        # Calcular a média das similaridades (se houver ao menos uma)\n",
    "        if similaridades:\n",
    "            similaridades_topicos[topico] = np.mean(similaridades)\n",
    "        else:\n",
    "            similaridades_topicos[topico] = -1  # Penaliza tópicos com nenhuma palavra conhecida\n",
    "\n",
    "    # Retorna o tópico com maior similaridade\n",
    "    topico_detectado = max(similaridades_topicos, key=similaridades_topicos.get)\n",
    "    return topico_detectado\n"
   ]
  },
  {
   "cell_type": "code",
   "execution_count": 3,
   "id": "0f5b4f9f",
   "metadata": {},
   "outputs": [
    {
     "ename": "NameError",
     "evalue": "name 'model' is not defined",
     "output_type": "error",
     "traceback": [
      "\u001b[0;31m---------------------------------------------------------------------------\u001b[0m",
      "\u001b[0;31mNameError\u001b[0m                                 Traceback (most recent call last)",
      "Cell \u001b[0;32mIn[3], line 2\u001b[0m\n\u001b[1;32m      1\u001b[0m \u001b[38;5;28;01mfor\u001b[39;00m texto \u001b[38;5;129;01min\u001b[39;00m textos_para_classificar:\n\u001b[0;32m----> 2\u001b[0m     topico \u001b[38;5;241m=\u001b[39m detectar_topico(texto, topicos, \u001b[43mmodel\u001b[49m)  \u001b[38;5;66;03m# ou modelo_carregado, dependendo de onde está\u001b[39;00m\n\u001b[1;32m      3\u001b[0m     \u001b[38;5;28mprint\u001b[39m(\u001b[38;5;124mf\u001b[39m\u001b[38;5;124m\"\u001b[39m\u001b[38;5;124mTexto: \u001b[39m\u001b[38;5;130;01m\\\"\u001b[39;00m\u001b[38;5;132;01m{\u001b[39;00mtexto\u001b[38;5;132;01m}\u001b[39;00m\u001b[38;5;130;01m\\\"\u001b[39;00m\u001b[38;5;130;01m\\n\u001b[39;00m\u001b[38;5;124m→ Tópico detectado: \u001b[39m\u001b[38;5;132;01m{\u001b[39;00mtopico\u001b[38;5;132;01m}\u001b[39;00m\u001b[38;5;130;01m\\n\u001b[39;00m\u001b[38;5;124m\"\u001b[39m)\n",
      "\u001b[0;31mNameError\u001b[0m: name 'model' is not defined"
     ]
    }
   ],
   "source": [
    "for texto in textos_para_classificar:\n",
    "    topico = detectar_topico(texto, topicos, model)  # ou modelo_carregado, dependendo de onde está\n",
    "    print(f\"Texto: \\\"{texto}\\\"\\n→ Tópico detectado: {topico}\\n\")\n"
   ]
  }
 ],
 "metadata": {
  "kernelspec": {
   "display_name": "Python 3",
   "language": "python",
   "name": "python3"
  },
  "language_info": {
   "codemirror_mode": {
    "name": "ipython",
    "version": 3
   },
   "file_extension": ".py",
   "mimetype": "text/x-python",
   "name": "python",
   "nbconvert_exporter": "python",
   "pygments_lexer": "ipython3",
   "version": "3.12.1"
  }
 },
 "nbformat": 4,
 "nbformat_minor": 5
}
