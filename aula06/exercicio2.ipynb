{
 "cells": [
  {
   "cell_type": "code",
   "execution_count": 1,
   "id": "9d17d37e",
   "metadata": {},
   "outputs": [],
   "source": [
    "import numpy as np\n",
    "import gensim.downloader as api\n",
    "\n",
    "# Carrega o modelo pré-treinado\n",
    "modelo_pretreino = api.load(\"glove-wiki-gigaword-100\")"
   ]
  },
  {
   "cell_type": "code",
   "execution_count": 2,
   "id": "fcc53b99",
   "metadata": {},
   "outputs": [],
   "source": [
    "# Função que transforma texto em vetor médio\n",
    "def texto_para_vetor(texto, modelo):\n",
    "    palavras = texto.lower().split()\n",
    "    vetores = [modelo[word] for word in palavras if word in modelo]\n",
    "    if vetores:\n",
    "        return np.mean(vetores, axis=0)\n",
    "    else:\n",
    "        return np.zeros(modelo.vector_size)\n"
   ]
  },
  {
   "cell_type": "code",
   "execution_count": 3,
   "id": "1cea5424",
   "metadata": {},
   "outputs": [],
   "source": [
    "# Função para detectar tópico\n",
    "def detectar_topico(texto, palavras_chave_por_topico, modelo):\n",
    "    vetor_texto = texto_para_vetor(texto, modelo)\n",
    "    similaridades_topicos = {}\n",
    "\n",
    "    for topico, palavras_chave in palavras_chave_por_topico.items():\n",
    "        similaridades = []\n",
    "        for palavra in palavras_chave:\n",
    "            if palavra in modelo:\n",
    "                vetor_palavra = modelo[palavra]\n",
    "                sim = np.dot(vetor_texto, vetor_palavra) / (np.linalg.norm(vetor_texto) * np.linalg.norm(vetor_palavra))\n",
    "                similaridades.append(sim)\n",
    "        if similaridades:\n",
    "            similaridades_topicos[topico] = np.mean(similaridades)\n",
    "        else:\n",
    "            similaridades_topicos[topico] = -1\n",
    "\n",
    "    return max(similaridades_topicos, key=similaridades_topicos.get)"
   ]
  },
  {
   "cell_type": "code",
   "execution_count": 4,
   "id": "1f00cae8",
   "metadata": {},
   "outputs": [],
   "source": [
    "# Dicionário de tópicos e palavras-chave\n",
    "topicos = {\n",
    "    \"Cinema\": [\"filme\", \"cinema\", \"ator\", \"atriz\", \"diretor\", \"estreia\", \"drama\", \"comédia\", \"roteiro\", \"festival\"],\n",
    "    \"Tecnologia\": [\"computador\", \"algoritmo\", \"software\", \"programação\", \"tecnologia\", \"aplicativo\", \"inteligência\", \"artificial\", \"rede\", \"dados\"],\n",
    "    \"Esporte\": [\"futebol\", \"basquete\", \"atleta\", \"jogo\", \"partida\", \"equipe\", \"competição\", \"campeonato\", \"treino\", \"vitória\"]\n",
    "}\n",
    "\n",
    "\n",
    "# Lista de textos a classificar\n",
    "textos_para_classificar = [\n",
    "    \"O novo filme do diretor ganhou vários prêmios no festival\",\n",
    "    \"A empresa lançou um software de inteligência artificial\",\n",
    "    \"O time conquistou o campeonato após uma temporada difícil\"\n",
    "]"
   ]
  },
  {
   "cell_type": "code",
   "execution_count": 5,
   "id": "0f5b4f9f",
   "metadata": {},
   "outputs": [
    {
     "name": "stdout",
     "output_type": "stream",
     "text": [
      "Texto: \"O novo filme do diretor ganhou vários prêmios no festival\"\n",
      "→ Tópico detectado: Cinema\n",
      "\n",
      "Texto: \"A empresa lançou um software de inteligência artificial\"\n",
      "→ Tópico detectado: Tecnologia\n",
      "\n",
      "Texto: \"O time conquistou o campeonato após uma temporada difícil\"\n",
      "→ Tópico detectado: Esporte\n",
      "\n"
     ]
    }
   ],
   "source": [
    "# Executa a classificação\n",
    "for texto in textos_para_classificar:\n",
    "    topico = detectar_topico(texto, topicos, modelo_pretreino)\n",
    "    print(f\"Texto: \\\"{texto}\\\"\\n→ Tópico detectado: {topico}\\n\")"
   ]
  }
 ],
 "metadata": {
  "kernelspec": {
   "display_name": "Python 3",
   "language": "python",
   "name": "python3"
  },
  "language_info": {
   "codemirror_mode": {
    "name": "ipython",
    "version": 3
   },
   "file_extension": ".py",
   "mimetype": "text/x-python",
   "name": "python",
   "nbconvert_exporter": "python",
   "pygments_lexer": "ipython3",
   "version": "3.12.1"
  }
 },
 "nbformat": 4,
 "nbformat_minor": 5
}
