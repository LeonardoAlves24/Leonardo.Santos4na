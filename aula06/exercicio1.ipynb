{
 "cells": [
  {
   "cell_type": "code",
   "execution_count": 1,
   "metadata": {},
   "outputs": [],
   "source": [
    "from gensim.models import KeyedVectors\n",
    "import gensim.downloader as api\n",
    "\n",
    "modelo = api.load(\"glove-wiki-gigaword-100\")\n"
   ]
  },
  {
   "cell_type": "code",
   "execution_count": 2,
   "metadata": {},
   "outputs": [],
   "source": [
    "import numpy as np\n",
    "\n",
    "def texto_para_vetor(texto, modelo):\n",
    "    palavras = texto.lower().split()\n",
    "    vetor = np.zeros(modelo.vector_size)\n",
    "    count = 0\n",
    "    for palavra in palavras:\n",
    "        if palavra in modelo:\n",
    "            vetor += modelo[palavra]\n",
    "            count += 1\n",
    "    if count > 0:\n",
    "        vetor /= count\n",
    "    return vetor\n"
   ]
  },
  {
   "cell_type": "code",
   "execution_count": 3,
   "metadata": {},
   "outputs": [
    {
     "name": "stdout",
     "output_type": "stream",
     "text": [
      "Similaridade entre documento 1 e documento 2: 0.7006\n",
      "Similaridade entre documento 1 e documento 3: 0.8993\n"
     ]
    }
   ],
   "source": [
    "def similaridade_documentos(doc1, doc2, modelo):\n",
    "    \"\"\"Calcula a similaridade entre dois documentos usando embeddings\"\"\"\n",
    "    vetor1 = texto_para_vetor(doc1, modelo)\n",
    "    vetor2 = texto_para_vetor(doc2, modelo)\n",
    "\n",
    "    # Calcular similaridade do cosseno\n",
    "    # similaridade = 1 - distância do cosseno\n",
    "    similaridade = np.dot(vetor1, vetor2) / (np.linalg.norm(vetor1) * np.linalg.norm(vetor2))\n",
    "    return similaridade\n",
    "\n",
    "# Exercício: Calcule a similaridade entre os documentos abaixo\n",
    "documento1 = \"O filme tem uma história envolvente e atuações convincentes\"\n",
    "documento2 = \"A narrativa do filme é cativante e os atores são excelentes\"\n",
    "documento3 = \"O restaurante tem comida deliciosa linda e preços acessíveis\"\n",
    "\n",
    "# Calcular similaridades (implemente sua solução)\n",
    "# similaridade entre documento1 e documento2\n",
    "sim_doc1_doc2 = similaridade_documentos(documento1, documento2, modelo)\n",
    "\n",
    "# Calcular similaridade entre documento1 e documento3\n",
    "sim_doc1_doc3 = similaridade_documentos(documento1, documento3, modelo)\n",
    "\n",
    "print(f\"Similaridade entre documento 1 e documento 2: {sim_doc1_doc2:.4f}\")\n",
    "print(f\"Similaridade entre documento 1 e documento 3: {sim_doc1_doc3:.4f}\")\n",
    "\n"
   ]
  }
 ],
 "metadata": {
  "kernelspec": {
   "display_name": "Python 3",
   "language": "python",
   "name": "python3"
  },
  "language_info": {
   "codemirror_mode": {
    "name": "ipython",
    "version": 3
   },
   "file_extension": ".py",
   "mimetype": "text/x-python",
   "name": "python",
   "nbconvert_exporter": "python",
   "pygments_lexer": "ipython3",
   "version": "3.12.1"
  }
 },
 "nbformat": 4,
 "nbformat_minor": 2
}
