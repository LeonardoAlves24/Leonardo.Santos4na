{
 "cells": [
  {
   "cell_type": "code",
   "execution_count": 2,
   "metadata": {},
   "outputs": [
    {
     "name": "stdout",
     "output_type": "stream",
     "text": [
      "MAE: 0.11999999999999966\n",
      "MSE: 0.015999999999999903\n",
      "RMSE: 0.12649110640673478\n",
      "R²: 0.998\n"
     ]
    }
   ],
   "source": [
    "from sklearn.metrics import mean_absolute_error, mean_squared_error, r2_score\n",
    "import numpy as np\n",
    "\n",
    "# Exemplo de valores reais e previstos\n",
    "y_real = np.array([10.0,8.0,6.0,4.0,2.0])\n",
    "y_pred = np.array([9.8,8.1,5.9,4.1,2.1])\n",
    "\n",
    "mae = mean_absolute_error(y_real, y_pred)\n",
    "mse = mean_squared_error(y_real, y_pred)\n",
    "rmse = np.sqrt(mse)\n",
    "r2 = r2_score(y_real, y_pred)\n",
    "\n",
    "print(\"MAE:\", mae)\n",
    "print(\"MSE:\", mse)\n",
    "print(\"RMSE:\", rmse)\n",
    "print(\"R²:\", r2)\n"
   ]
  }
 ],
 "metadata": {
  "kernelspec": {
   "display_name": "Python 3",
   "language": "python",
   "name": "python3"
  },
  "language_info": {
   "codemirror_mode": {
    "name": "ipython",
    "version": 3
   },
   "file_extension": ".py",
   "mimetype": "text/x-python",
   "name": "python",
   "nbconvert_exporter": "python",
   "pygments_lexer": "ipython3",
   "version": "3.12.1"
  }
 },
 "nbformat": 4,
 "nbformat_minor": 2
}
